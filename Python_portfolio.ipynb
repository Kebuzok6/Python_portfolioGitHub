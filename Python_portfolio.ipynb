{
  "nbformat": 4,
  "nbformat_minor": 0,
  "metadata": {
    "colab": {
      "provenance": [],
      "toc_visible": true,
      "authorship_tag": "ABX9TyOlaS2N8MIvuYiN0HI5FS+Y",
      "include_colab_link": true
    },
    "kernelspec": {
      "name": "python3",
      "display_name": "Python 3"
    },
    "language_info": {
      "name": "python"
    }
  },
  "cells": [
    {
      "cell_type": "markdown",
      "metadata": {
        "id": "view-in-github",
        "colab_type": "text"
      },
      "source": [
        "<a href=\"https://colab.research.google.com/github/Kebuzok6/Python_portfolioGitHub/blob/main/Python_portfolio.ipynb\" target=\"_parent\"><img src=\"https://colab.research.google.com/assets/colab-badge.svg\" alt=\"Open In Colab\"/></a>"
      ]
    },
    {
      "cell_type": "markdown",
      "source": [
        "# Ćwiczenia z programowania w Pythonie\n",
        "Znajdują się tutaj zarówno smaodzielne projekty w ramach hobby jak i projekty, które były częścią studiów (Zarządzanie informacją)."
      ],
      "metadata": {
        "id": "kBBuiSJNtXVT"
      }
    },
    {
      "cell_type": "markdown",
      "source": [
        "## Tworzenie podstawowych klas i obiektów\n",
        "Ćwiczenie polegające na zdefiniowaniu prostych klas i obiektów"
      ],
      "metadata": {
        "id": "tHd2yyTzCElK"
      }
    },
    {
      "cell_type": "code",
      "source": [
        "class Pracownicy:\n",
        "  pass\n",
        "\n",
        "janek_kowalski = Pracownicy()\n",
        "\n",
        "janek_kowalski.id = 'Janek Kowalski'\n",
        "janek_kowalski.stanowisko = 'laboratorium komputerowe'\n",
        "janek_kowalski.wiek = '43'\n",
        "janek_kowalski.pensja = '6000'\n",
        "\n",
        "print (janek_kowalski.id, janek_kowalski.stanowisko, janek_kowalski.wiek)\n"
      ],
      "metadata": {
        "colab": {
          "base_uri": "https://localhost:8080/"
        },
        "id": "dymfIiKSCaiC",
        "outputId": "5ba3bc88-1bdb-49ff-8f52-0443d7088ef3"
      },
      "execution_count": null,
      "outputs": [
        {
          "output_type": "stream",
          "name": "stdout",
          "text": [
            "Janek Kowalski laboratorium komputerowe 43\n"
          ]
        }
      ]
    },
    {
      "cell_type": "code",
      "source": [
        "class Pojazd:\n",
        "  nazwa = \"\"\n",
        "  rodzaj = \"auto\"\n",
        "  kolor = \"\"\n",
        "  wartosc = 100.00\n",
        "\n",
        "  def opis(self):\n",
        "    napis_opisu = \"%s to %s %s warty %.2f zl.\" % (self.nazwa, self.kolor, self.rodzaj, self.wartosc)\n",
        "    return napis_opisu\n",
        "\n",
        "Auto1 = Pojazd()\n",
        "Auto1.nazwa=\"Ferrari\"\n",
        "Auto1.kolor=\"czerwony\"\n",
        "Auto1.rodzaj=\"kabriolet\"\n",
        "Auto1.wartosc=100000\n",
        "\n",
        "Auto2 = Pojazd()\n",
        "Auto2.nazwa=\"Multivan\"\n",
        "Auto2.kolor=\"szary\"\n",
        "Auto2.rodzaj=\"bus\"\n",
        "Auto2.wartosc=60000\n",
        "\n",
        "print(Auto1.opis())\n",
        "print(Auto2.opis())"
      ],
      "metadata": {
        "colab": {
          "base_uri": "https://localhost:8080/"
        },
        "id": "Ym0PJyXUDueG",
        "outputId": "b98184a6-76c8-4f52-9561-f2eb734bf573"
      },
      "execution_count": null,
      "outputs": [
        {
          "output_type": "stream",
          "name": "stdout",
          "text": [
            "Ferrari to czerwony kabriolet warty 100000.00 zl.\n",
            "Multivan to szary bus warty 60000.00 zl.\n"
          ]
        }
      ]
    },
    {
      "cell_type": "markdown",
      "source": [
        "## Własna prosta funkcja\n",
        "Projektowanie własnego programu, którego celem jest wyszukiwanie numeru odcinka wybranego serialu po tytule (angielskim lub polskim).\n",
        "\n",
        "Wybrałam serial Sherlock, lista odcinków dostępna pod linkiem: https://pl.wikipedia.org/wiki/Sherlock_(serial_telewizyjny)#Odcinek_specjalny_(2016)"
      ],
      "metadata": {
        "id": "XdhmiXINBIOn"
      }
    },
    {
      "cell_type": "code",
      "source": [
        "def tytul_polski(numer_odcinka):\n",
        "  polskie_tytuly = {\n",
        "      1: \"Studium rózu\",\n",
        "      2: \"Niewidomy bankier\",\n",
        "      3: \"Wielka Gra\",\n",
        "      4: \"Skandal w Belgrawii\",\n",
        "      5: \"Demony Baskerville\",\n",
        "      6: \"Ostatnia zagadka/Upadek z Raichenbach\",\n",
        "      7: \"Many Happy Returns (odcinek specjalny, brak polskiego tytułu)\",\n",
        "      8: \"Pusty karawan\",\n",
        "      9: \"Znak trojga/Oznaki trojga\",\n",
        "      10: \"Jego ostatnia przysięga\",\n",
        "      11: \"Upiorna panna młoda (odcinek specjalny)\"\n",
        "\n",
        "  }\n",
        "\n",
        "  return polskie_tytuly.get(numer_odcinka)\n"
      ],
      "metadata": {
        "id": "ZB8HuGU4uWyT"
      },
      "execution_count": null,
      "outputs": []
    },
    {
      "cell_type": "code",
      "source": [
        "def tytul_angielski(numer_odcinka):\n",
        "  angielskie_tytuly = {\n",
        "      1: \"Study in Pink\",\n",
        "      2: \"The Blind Banker\",\n",
        "      3: \"The Great Game\",\n",
        "      4: \"A Scandal in Blegravia\",\n",
        "      5: \"The Hounds of Baskerville\",\n",
        "      6: \"The Reichenbach Fall\",\n",
        "      7: \"Many happy Returns (special)\",\n",
        "      8: \"The Empty House\",\n",
        "      9: \"The Sign of Three\",\n",
        "      10: \"His Last Vow\",\n",
        "      11: \"The Abominable Bride (special)\"\n",
        "  }\n",
        "\n",
        "  return angielskie_tytuly.get(numer_odcinka)"
      ],
      "metadata": {
        "id": "l3l2KTFvv8hS"
      },
      "execution_count": null,
      "outputs": []
    },
    {
      "cell_type": "code",
      "source": [
        "def sprawdz_dane(numer_odcinka, jezyk):\n",
        "  if numer_odcinka not in range(1,12):\n",
        "    print(\"Odcinek o takim numerze nie istnieje, sprawdź poprawność danych\")\n",
        "    return False\n",
        "\n",
        "  if jezyk not in [\"PL\", \"ANG\"]:\n",
        "    print(\"Wybierz poprawną wersję językową: PL lub ANG\")\n",
        "    return False\n",
        "\n",
        "  return True\n",
        "\n",
        "\n",
        "while True:\n",
        "  numer_odcinka = int(input(\"Proszę podać numer odcinka (1-11):\"))\n",
        "  jezyk = input(\"Proszę podać wersję językową odcinka (PL/ANG):\").upper()\n",
        "\n",
        "  if not sprawdz_dane(numer_odcinka, jezyk):\n",
        "    repeat = input(\"Czy chcesz powtórzyć akcję? (T/N)\").upper()\n",
        "    if repeat != \"T\":\n",
        "      break\n",
        "    else:\n",
        "      continue\n",
        "\n",
        "  if jezyk == \"PL\":\n",
        "    tytul = tytul_polski(numer_odcinka)\n",
        "  else:\n",
        "    tytul = tytul_angielski(numer_odcinka)\n",
        "\n",
        "  print(\"Tytuł odcinka: \", tytul)\n",
        "\n",
        "\n",
        "  choice = input(\"Czy chcesz kontynuować? (T/N): \").upper()\n",
        "  if choice != \"T\":\n",
        "    break"
      ],
      "metadata": {
        "colab": {
          "base_uri": "https://localhost:8080/"
        },
        "id": "DDWE2zTrxUTb",
        "outputId": "f7b988bf-dd8e-4efa-d3c1-3e4f85ea670a"
      },
      "execution_count": null,
      "outputs": [
        {
          "name": "stdout",
          "output_type": "stream",
          "text": [
            "Proszę podać numer odcinka (1-11):8\n",
            "Proszę podać wersję językową odcinka (PL/ANG):pl\n",
            "Tytuł odcinka:  Pusty karawan\n",
            "Czy chcesz kontynuować? (T/N): t\n",
            "Proszę podać numer odcinka (1-11):14\n",
            "Proszę podać wersję językową odcinka (PL/ANG):ang\n",
            "Odcinek o takim numerze nie istnieje, sprawdź poprawność danych\n",
            "Czy chcesz powtórzyć akcję? (T/N)n\n"
          ]
        }
      ]
    },
    {
      "cell_type": "markdown",
      "source": [
        "## Podstawowe opracowanie danych (Pandas)\n",
        "To ćwiczenie miało na celu przygotowanie dokumentacji ze zbioru danych Bank Marketing Data set (dostępne pod adresem: http://archive.ics.uci.edu/dataset/222/bank+marketing).\n",
        "\n",
        "Chciałam przede wszystkim zapoznać się z Pandas oraz podstawowym przekształcaniem danych zastanych w formacie .csv"
      ],
      "metadata": {
        "id": "hXtEezTVBT_q"
      }
    },
    {
      "cell_type": "code",
      "source": [
        "import pandas as pd\n",
        "\n",
        "dane = pd.read_csv('bank-full.csv', delimiter=\";\")\n",
        "dane.head(5)"
      ],
      "metadata": {
        "colab": {
          "base_uri": "https://localhost:8080/"
        },
        "id": "fhQ3ztuBJJMK",
        "outputId": "03fc779e-f502-4d73-db2f-134e0b704d95"
      },
      "execution_count": null,
      "outputs": [
        {
          "output_type": "stream",
          "name": "stdout",
          "text": [
            "<class 'pandas.core.frame.DataFrame'>\n",
            "RangeIndex: 45211 entries, 0 to 45210\n",
            "Data columns (total 17 columns):\n",
            " #   Column     Non-Null Count  Dtype \n",
            "---  ------     --------------  ----- \n",
            " 0   age        45211 non-null  int64 \n",
            " 1   job        45211 non-null  object\n",
            " 2   marital    45211 non-null  object\n",
            " 3   education  45211 non-null  object\n",
            " 4   default    45211 non-null  object\n",
            " 5   balance    45211 non-null  int64 \n",
            " 6   housing    45211 non-null  object\n",
            " 7   loan       45211 non-null  object\n",
            " 8   contact    45211 non-null  object\n",
            " 9   day        45211 non-null  int64 \n",
            " 10  month      45211 non-null  object\n",
            " 11  duration   45211 non-null  int64 \n",
            " 12  campaign   45211 non-null  int64 \n",
            " 13  pdays      45211 non-null  int64 \n",
            " 14  previous   45211 non-null  int64 \n",
            " 15  poutcome   45211 non-null  object\n",
            " 16  y          45211 non-null  object\n",
            "dtypes: int64(7), object(10)\n",
            "memory usage: 5.9+ MB\n"
          ]
        }
      ]
    },
    {
      "cell_type": "code",
      "source": [
        "dane.info()\n",
        "# Tutaj widzę, że nie wszystkie dane są w formie liczbowej, do której dążę. Muszę więc je przekształcić."
      ],
      "metadata": {
        "colab": {
          "base_uri": "https://localhost:8080/"
        },
        "id": "c_C1M5fuL1pV",
        "outputId": "08b5d732-50b1-43c2-a3f2-f20760caed5b"
      },
      "execution_count": null,
      "outputs": [
        {
          "output_type": "stream",
          "name": "stdout",
          "text": [
            "<class 'pandas.core.frame.DataFrame'>\n",
            "RangeIndex: 45211 entries, 0 to 45210\n",
            "Data columns (total 17 columns):\n",
            " #   Column     Non-Null Count  Dtype \n",
            "---  ------     --------------  ----- \n",
            " 0   age        45211 non-null  int64 \n",
            " 1   job        45211 non-null  object\n",
            " 2   marital    45211 non-null  object\n",
            " 3   education  45211 non-null  object\n",
            " 4   default    45211 non-null  object\n",
            " 5   balance    45211 non-null  int64 \n",
            " 6   housing    45211 non-null  object\n",
            " 7   loan       45211 non-null  object\n",
            " 8   contact    45211 non-null  object\n",
            " 9   day        45211 non-null  int64 \n",
            " 10  month      45211 non-null  object\n",
            " 11  duration   45211 non-null  int64 \n",
            " 12  campaign   45211 non-null  int64 \n",
            " 13  pdays      45211 non-null  int64 \n",
            " 14  previous   45211 non-null  int64 \n",
            " 15  poutcome   45211 non-null  object\n",
            " 16  y          45211 non-null  object\n",
            "dtypes: int64(7), object(10)\n",
            "memory usage: 5.9+ MB\n"
          ]
        }
      ]
    },
    {
      "cell_type": "code",
      "source": [
        "from sklearn.preprocessing import LabelEncoder\n",
        "label_encoder = LabelEncoder()\n",
        "\n",
        "dane['marital'] = label_encoder.fit_transform(dane['marital'])\n",
        "dane['education'] = label_encoder.fit_transform(dane['education'])\n",
        "dane['default'] = label_encoder.fit_transform(dane['default'])\n",
        "dane['housing'] = label_encoder.fit_transform(dane['housing'])\n",
        "dane['loan'] = label_encoder.fit_transform(dane['loan'])\n",
        "dane['contact'] = label_encoder.fit_transform(dane['contact'])\n",
        "dane['month'] = label_encoder.fit_transform(dane['month'])\n",
        "dane['poutcome'] = label_encoder.fit_transform(dane['poutcome'])\n",
        "dane['y'] = label_encoder.fit_transform(dane['y'])\n",
        "\n",
        "dane.info() #sprawdzam, czy pola zmieniły się na liczbowe"
      ],
      "metadata": {
        "colab": {
          "base_uri": "https://localhost:8080/"
        },
        "id": "Ya-ZO3IuL_Xl",
        "outputId": "7219f100-3031-4324-bc10-1e8ee8eefca4"
      },
      "execution_count": null,
      "outputs": [
        {
          "output_type": "stream",
          "name": "stdout",
          "text": [
            "<class 'pandas.core.frame.DataFrame'>\n",
            "RangeIndex: 45211 entries, 0 to 45210\n",
            "Data columns (total 17 columns):\n",
            " #   Column     Non-Null Count  Dtype\n",
            "---  ------     --------------  -----\n",
            " 0   age        45211 non-null  int64\n",
            " 1   job        45211 non-null  int64\n",
            " 2   marital    45211 non-null  int64\n",
            " 3   education  45211 non-null  int64\n",
            " 4   default    45211 non-null  int64\n",
            " 5   balance    45211 non-null  int64\n",
            " 6   housing    45211 non-null  int64\n",
            " 7   loan       45211 non-null  int64\n",
            " 8   contact    45211 non-null  int64\n",
            " 9   day        45211 non-null  int64\n",
            " 10  month      45211 non-null  int64\n",
            " 11  duration   45211 non-null  int64\n",
            " 12  campaign   45211 non-null  int64\n",
            " 13  pdays      45211 non-null  int64\n",
            " 14  previous   45211 non-null  int64\n",
            " 15  poutcome   45211 non-null  int64\n",
            " 16  y          45211 non-null  int64\n",
            "dtypes: int64(17)\n",
            "memory usage: 5.9 MB\n"
          ]
        }
      ]
    },
    {
      "cell_type": "code",
      "source": [
        "# Z tymi zmienionymi danymi teraz zapisuję plik\n",
        "dane.to_csv('bank-full-opracowane.csv', encoding='utf-8', header=False, index=False)"
      ],
      "metadata": {
        "id": "MaARewuFOMdF"
      },
      "execution_count": null,
      "outputs": []
    },
    {
      "cell_type": "markdown",
      "source": [
        "## Prosta sieć neuronowa w Keras i TensorFlow\n",
        "Był to projekt zaliczeniowy na zajęcia Sieci - teoria i praktyka.\n",
        "Celem było utworzenie prostej sieci neuronowej, której zadaniem było przewidywanie na podstawie podanych danych.\n",
        "\n",
        "Podczas wykonywania ćwiczenia bazowałam na instrukcjach Machine Learning Mastery (https://machinelearningmastery.com/tutorial-first-neural-network-python-keras/), jednak wykorzystałam dane, które opracowałam w poprzednim ćwiczeniu."
      ],
      "metadata": {
        "id": "wNVAg9mBBcwc"
      }
    },
    {
      "cell_type": "code",
      "source": [
        "#Nie muszę ponownie importować danych, bo zrobiłam to już w poprzednim punkcie. Przechodzę więc od razu do projektowania sieci neuronowej.\n",
        "\n",
        "from numpy import loadtxt\n",
        "from keras.models import Sequential\n",
        "from keras.layers import Dense\n",
        "\n",
        "dataset = pd.read_csv('bank-full-opracowane.csv', delimiter=',')\n",
        "\n",
        "\n",
        "import pandas as pd\n",
        "import numpy as np\n",
        "from sklearn.model_selection import train_test_split\n",
        "from sklearn.preprocessing import StandardScaler\n",
        "from tensorflow.keras.models import Sequential\n",
        "from tensorflow.keras.layers import Dense\n"
      ],
      "metadata": {
        "id": "i_v0N59IQ-hL"
      },
      "execution_count": null,
      "outputs": []
    },
    {
      "cell_type": "code",
      "source": [
        "X = dataset.iloc[:, 0:16]\n",
        "Y = dataset.iloc[:, 16]"
      ],
      "metadata": {
        "id": "WjkjFzjjbGdA"
      },
      "execution_count": null,
      "outputs": []
    },
    {
      "cell_type": "code",
      "source": [
        "#Definiowanie modelu w Keras (liczba powłok, liczba neuronów w danej powłoce, funkcja aktywacji dla każdej powłoki)\n",
        "model = Sequential()\n",
        "model.add(Dense(12, input_dim=16, activation='relu')) #Tutaj jest 2 w 1: pierwsza warstwa ukryta, która składa się z 12 neuronów oraz warstwa wejściowa, w której wprowadzamy 16 cech\n",
        "model.add(Dense(12, activation='relu'))\n",
        "model.add(Dense(1, activation='sigmoid'))\n",
        "\n",
        "model.compile(loss='binary_crossentropy', optimizer='adam', metrics=['accuracy'])"
      ],
      "metadata": {
        "colab": {
          "base_uri": "https://localhost:8080/"
        },
        "id": "Xhp0aQB2ZdxZ",
        "outputId": "7a564a57-9980-43af-e9b0-c8ba982ca023"
      },
      "execution_count": null,
      "outputs": [
        {
          "output_type": "stream",
          "name": "stderr",
          "text": [
            "/usr/local/lib/python3.12/dist-packages/keras/src/layers/core/dense.py:93: UserWarning: Do not pass an `input_shape`/`input_dim` argument to a layer. When using Sequential models, prefer using an `Input(shape)` object as the first layer in the model instead.\n",
            "  super().__init__(activity_regularizer=activity_regularizer, **kwargs)\n"
          ]
        }
      ]
    },
    {
      "cell_type": "code",
      "source": [
        "#Trenowanie modelu\n",
        "\n",
        "history = model.fit(X, Y, epochs=85, batch_size=10, verbose=2)"
      ],
      "metadata": {
        "colab": {
          "base_uri": "https://localhost:8080/"
        },
        "id": "3uF7iHEpZ2Kr",
        "outputId": "a554fd30-763d-4339-b64b-b5bf0d8490d6"
      },
      "execution_count": null,
      "outputs": [
        {
          "output_type": "stream",
          "name": "stdout",
          "text": [
            "Epoch 1/85\n",
            "4521/4521 - 10s - 2ms/step - accuracy: 0.8488 - loss: 1.6589\n",
            "Epoch 2/85\n",
            "4521/4521 - 10s - 2ms/step - accuracy: 0.8650 - loss: 0.5844\n",
            "Epoch 3/85\n",
            "4521/4521 - 9s - 2ms/step - accuracy: 0.8701 - loss: 0.4830\n",
            "Epoch 4/85\n",
            "4521/4521 - 9s - 2ms/step - accuracy: 0.8761 - loss: 0.3994\n",
            "Epoch 5/85\n",
            "4521/4521 - 10s - 2ms/step - accuracy: 0.8829 - loss: 0.2975\n",
            "Epoch 6/85\n",
            "4521/4521 - 8s - 2ms/step - accuracy: 0.8856 - loss: 0.2817\n",
            "Epoch 7/85\n",
            "4521/4521 - 10s - 2ms/step - accuracy: 0.8868 - loss: 0.2764\n",
            "Epoch 8/85\n",
            "4521/4521 - 8s - 2ms/step - accuracy: 0.8862 - loss: 0.2719\n",
            "Epoch 9/85\n",
            "4521/4521 - 9s - 2ms/step - accuracy: 0.8877 - loss: 0.2678\n",
            "Epoch 10/85\n",
            "4521/4521 - 7s - 2ms/step - accuracy: 0.8880 - loss: 0.2660\n",
            "Epoch 11/85\n",
            "4521/4521 - 12s - 3ms/step - accuracy: 0.8880 - loss: 0.2643\n",
            "Epoch 12/85\n",
            "4521/4521 - 9s - 2ms/step - accuracy: 0.8893 - loss: 0.2614\n",
            "Epoch 13/85\n",
            "4521/4521 - 7s - 2ms/step - accuracy: 0.8896 - loss: 0.2602\n",
            "Epoch 14/85\n",
            "4521/4521 - 9s - 2ms/step - accuracy: 0.8898 - loss: 0.2597\n",
            "Epoch 15/85\n",
            "4521/4521 - 9s - 2ms/step - accuracy: 0.8903 - loss: 0.2591\n",
            "Epoch 16/85\n",
            "4521/4521 - 9s - 2ms/step - accuracy: 0.8908 - loss: 0.2586\n",
            "Epoch 17/85\n",
            "4521/4521 - 10s - 2ms/step - accuracy: 0.8918 - loss: 0.2580\n",
            "Epoch 18/85\n",
            "4521/4521 - 10s - 2ms/step - accuracy: 0.8921 - loss: 0.2564\n",
            "Epoch 19/85\n",
            "4521/4521 - 9s - 2ms/step - accuracy: 0.8921 - loss: 0.2549\n",
            "Epoch 20/85\n",
            "4521/4521 - 8s - 2ms/step - accuracy: 0.8924 - loss: 0.2543\n",
            "Epoch 21/85\n",
            "4521/4521 - 8s - 2ms/step - accuracy: 0.8929 - loss: 0.2555\n",
            "Epoch 22/85\n",
            "4521/4521 - 8s - 2ms/step - accuracy: 0.8929 - loss: 0.2544\n",
            "Epoch 23/85\n",
            "4521/4521 - 10s - 2ms/step - accuracy: 0.8939 - loss: 0.2522\n",
            "Epoch 24/85\n",
            "4521/4521 - 8s - 2ms/step - accuracy: 0.8929 - loss: 0.2524\n",
            "Epoch 25/85\n",
            "4521/4521 - 8s - 2ms/step - accuracy: 0.8929 - loss: 0.2525\n",
            "Epoch 26/85\n",
            "4521/4521 - 8s - 2ms/step - accuracy: 0.8937 - loss: 0.2519\n",
            "Epoch 27/85\n",
            "4521/4521 - 10s - 2ms/step - accuracy: 0.8941 - loss: 0.2507\n",
            "Epoch 28/85\n",
            "4521/4521 - 9s - 2ms/step - accuracy: 0.8942 - loss: 0.2515\n",
            "Epoch 29/85\n",
            "4521/4521 - 9s - 2ms/step - accuracy: 0.8942 - loss: 0.2512\n",
            "Epoch 30/85\n",
            "4521/4521 - 9s - 2ms/step - accuracy: 0.8941 - loss: 0.2502\n",
            "Epoch 31/85\n",
            "4521/4521 - 10s - 2ms/step - accuracy: 0.8954 - loss: 0.2505\n",
            "Epoch 32/85\n",
            "4521/4521 - 10s - 2ms/step - accuracy: 0.8939 - loss: 0.2502\n",
            "Epoch 33/85\n",
            "4521/4521 - 11s - 3ms/step - accuracy: 0.8951 - loss: 0.2497\n",
            "Epoch 34/85\n",
            "4521/4521 - 11s - 2ms/step - accuracy: 0.8949 - loss: 0.2497\n",
            "Epoch 35/85\n",
            "4521/4521 - 10s - 2ms/step - accuracy: 0.8956 - loss: 0.2492\n",
            "Epoch 36/85\n",
            "4521/4521 - 10s - 2ms/step - accuracy: 0.8947 - loss: 0.2505\n",
            "Epoch 37/85\n",
            "4521/4521 - 8s - 2ms/step - accuracy: 0.8955 - loss: 0.2481\n",
            "Epoch 38/85\n",
            "4521/4521 - 11s - 3ms/step - accuracy: 0.8961 - loss: 0.2484\n",
            "Epoch 39/85\n",
            "4521/4521 - 10s - 2ms/step - accuracy: 0.8959 - loss: 0.2481\n",
            "Epoch 40/85\n",
            "4521/4521 - 10s - 2ms/step - accuracy: 0.8945 - loss: 0.2483\n",
            "Epoch 41/85\n",
            "4521/4521 - 9s - 2ms/step - accuracy: 0.8966 - loss: 0.2478\n",
            "Epoch 42/85\n",
            "4521/4521 - 9s - 2ms/step - accuracy: 0.8956 - loss: 0.2478\n",
            "Epoch 43/85\n",
            "4521/4521 - 10s - 2ms/step - accuracy: 0.8955 - loss: 0.2484\n",
            "Epoch 44/85\n",
            "4521/4521 - 8s - 2ms/step - accuracy: 0.8956 - loss: 0.2477\n",
            "Epoch 45/85\n",
            "4521/4521 - 8s - 2ms/step - accuracy: 0.8966 - loss: 0.2463\n",
            "Epoch 46/85\n",
            "4521/4521 - 9s - 2ms/step - accuracy: 0.8961 - loss: 0.2471\n",
            "Epoch 47/85\n",
            "4521/4521 - 11s - 2ms/step - accuracy: 0.8953 - loss: 0.2470\n",
            "Epoch 48/85\n",
            "4521/4521 - 8s - 2ms/step - accuracy: 0.8956 - loss: 0.2476\n",
            "Epoch 49/85\n",
            "4521/4521 - 11s - 2ms/step - accuracy: 0.8965 - loss: 0.2465\n",
            "Epoch 50/85\n",
            "4521/4521 - 11s - 2ms/step - accuracy: 0.8965 - loss: 0.2465\n",
            "Epoch 51/85\n",
            "4521/4521 - 10s - 2ms/step - accuracy: 0.8958 - loss: 0.2467\n",
            "Epoch 52/85\n",
            "4521/4521 - 9s - 2ms/step - accuracy: 0.8973 - loss: 0.2457\n",
            "Epoch 53/85\n",
            "4521/4521 - 10s - 2ms/step - accuracy: 0.8964 - loss: 0.2451\n",
            "Epoch 54/85\n",
            "4521/4521 - 12s - 3ms/step - accuracy: 0.8964 - loss: 0.2459\n",
            "Epoch 55/85\n",
            "4521/4521 - 10s - 2ms/step - accuracy: 0.8965 - loss: 0.2458\n",
            "Epoch 56/85\n",
            "4521/4521 - 9s - 2ms/step - accuracy: 0.8967 - loss: 0.2465\n",
            "Epoch 57/85\n",
            "4521/4521 - 9s - 2ms/step - accuracy: 0.8970 - loss: 0.2442\n",
            "Epoch 58/85\n",
            "4521/4521 - 8s - 2ms/step - accuracy: 0.8964 - loss: 0.2453\n",
            "Epoch 59/85\n",
            "4521/4521 - 9s - 2ms/step - accuracy: 0.8964 - loss: 0.2448\n",
            "Epoch 60/85\n",
            "4521/4521 - 8s - 2ms/step - accuracy: 0.8966 - loss: 0.2458\n",
            "Epoch 61/85\n",
            "4521/4521 - 11s - 2ms/step - accuracy: 0.8961 - loss: 0.2454\n",
            "Epoch 62/85\n",
            "4521/4521 - 10s - 2ms/step - accuracy: 0.8965 - loss: 0.2447\n",
            "Epoch 63/85\n",
            "4521/4521 - 9s - 2ms/step - accuracy: 0.8967 - loss: 0.2444\n",
            "Epoch 64/85\n",
            "4521/4521 - 10s - 2ms/step - accuracy: 0.8986 - loss: 0.2447\n",
            "Epoch 65/85\n",
            "4521/4521 - 9s - 2ms/step - accuracy: 0.8975 - loss: 0.2441\n",
            "Epoch 66/85\n",
            "4521/4521 - 8s - 2ms/step - accuracy: 0.8963 - loss: 0.2445\n",
            "Epoch 67/85\n",
            "4521/4521 - 10s - 2ms/step - accuracy: 0.8970 - loss: 0.2456\n",
            "Epoch 68/85\n",
            "4521/4521 - 7s - 2ms/step - accuracy: 0.8973 - loss: 0.2451\n",
            "Epoch 69/85\n",
            "4521/4521 - 8s - 2ms/step - accuracy: 0.8964 - loss: 0.2440\n",
            "Epoch 70/85\n",
            "4521/4521 - 8s - 2ms/step - accuracy: 0.8962 - loss: 0.2441\n",
            "Epoch 71/85\n",
            "4521/4521 - 7s - 2ms/step - accuracy: 0.8964 - loss: 0.2441\n",
            "Epoch 72/85\n",
            "4521/4521 - 11s - 2ms/step - accuracy: 0.8968 - loss: 0.2435\n",
            "Epoch 73/85\n",
            "4521/4521 - 10s - 2ms/step - accuracy: 0.8975 - loss: 0.2449\n",
            "Epoch 74/85\n",
            "4521/4521 - 9s - 2ms/step - accuracy: 0.8966 - loss: 0.2435\n",
            "Epoch 75/85\n",
            "4521/4521 - 10s - 2ms/step - accuracy: 0.8969 - loss: 0.2436\n",
            "Epoch 76/85\n",
            "4521/4521 - 10s - 2ms/step - accuracy: 0.8975 - loss: 0.2434\n",
            "Epoch 77/85\n",
            "4521/4521 - 8s - 2ms/step - accuracy: 0.8973 - loss: 0.2434\n",
            "Epoch 78/85\n",
            "4521/4521 - 10s - 2ms/step - accuracy: 0.8969 - loss: 0.2427\n",
            "Epoch 79/85\n",
            "4521/4521 - 9s - 2ms/step - accuracy: 0.8968 - loss: 0.2438\n",
            "Epoch 80/85\n",
            "4521/4521 - 10s - 2ms/step - accuracy: 0.8963 - loss: 0.2432\n",
            "Epoch 81/85\n",
            "4521/4521 - 10s - 2ms/step - accuracy: 0.8985 - loss: 0.2440\n",
            "Epoch 82/85\n",
            "4521/4521 - 8s - 2ms/step - accuracy: 0.8969 - loss: 0.2441\n",
            "Epoch 83/85\n",
            "4521/4521 - 10s - 2ms/step - accuracy: 0.8975 - loss: 0.2433\n",
            "Epoch 84/85\n",
            "4521/4521 - 9s - 2ms/step - accuracy: 0.8970 - loss: 0.2425\n",
            "Epoch 85/85\n",
            "4521/4521 - 10s - 2ms/step - accuracy: 0.8969 - loss: 0.2427\n"
          ]
        }
      ]
    },
    {
      "cell_type": "code",
      "source": [
        "predictions = (model.predict(X) > 0.5).astype(\"int32\")"
      ],
      "metadata": {
        "colab": {
          "base_uri": "https://localhost:8080/"
        },
        "id": "vcEgiSMsZ6VE",
        "outputId": "154c86fe-746b-4622-a37f-4e2e338ac8d1"
      },
      "execution_count": null,
      "outputs": [
        {
          "output_type": "stream",
          "name": "stdout",
          "text": [
            "\u001b[1m1413/1413\u001b[0m \u001b[32m━━━━━━━━━━━━━━━━━━━━\u001b[0m\u001b[37m\u001b[0m \u001b[1m2s\u001b[0m 1ms/step\n"
          ]
        }
      ]
    },
    {
      "cell_type": "code",
      "source": [
        "for i in range(25):\n",
        "    print('cechy wejściowe obserwacji (input): %s => przewidziany wynik (output): %d (rzeczywista wartość: %d)' % (X.iloc[i].tolist(), predictions[i], Y.iloc[i]))"
      ],
      "metadata": {
        "colab": {
          "base_uri": "https://localhost:8080/"
        },
        "id": "FEJWqC26Z_MG",
        "outputId": "6fc3b1a4-6695-4803-e244-26ddf0676e62"
      },
      "execution_count": null,
      "outputs": [
        {
          "output_type": "stream",
          "name": "stdout",
          "text": [
            "cechy wejściowe obserwacji (input): [44, 9, 2, 1, 0, 29, 1, 0, 2, 5, 8, 151, 1, -1, 0, 3] => przewidziany wynik (output): 0 (rzeczywista wartość: 0)\n",
            "cechy wejściowe obserwacji (input): [33, 2, 1, 1, 0, 2, 1, 1, 2, 5, 8, 76, 1, -1, 0, 3] => przewidziany wynik (output): 0 (rzeczywista wartość: 0)\n",
            "cechy wejściowe obserwacji (input): [47, 1, 1, 3, 0, 1506, 1, 0, 2, 5, 8, 92, 1, -1, 0, 3] => przewidziany wynik (output): 0 (rzeczywista wartość: 0)\n",
            "cechy wejściowe obserwacji (input): [33, 11, 2, 3, 0, 1, 0, 0, 2, 5, 8, 198, 1, -1, 0, 3] => przewidziany wynik (output): 0 (rzeczywista wartość: 0)\n",
            "cechy wejściowe obserwacji (input): [35, 4, 1, 2, 0, 231, 1, 0, 2, 5, 8, 139, 1, -1, 0, 3] => przewidziany wynik (output): 0 (rzeczywista wartość: 0)\n",
            "cechy wejściowe obserwacji (input): [28, 4, 2, 2, 0, 447, 1, 1, 2, 5, 8, 217, 1, -1, 0, 3] => przewidziany wynik (output): 0 (rzeczywista wartość: 0)\n",
            "cechy wejściowe obserwacji (input): [42, 2, 0, 2, 1, 2, 1, 0, 2, 5, 8, 380, 1, -1, 0, 3] => przewidziany wynik (output): 0 (rzeczywista wartość: 0)\n",
            "cechy wejściowe obserwacji (input): [58, 5, 1, 0, 0, 121, 1, 0, 2, 5, 8, 50, 1, -1, 0, 3] => przewidziany wynik (output): 0 (rzeczywista wartość: 0)\n",
            "cechy wejściowe obserwacji (input): [43, 9, 2, 1, 0, 593, 1, 0, 2, 5, 8, 55, 1, -1, 0, 3] => przewidziany wynik (output): 0 (rzeczywista wartość: 0)\n",
            "cechy wejściowe obserwacji (input): [41, 0, 0, 1, 0, 270, 1, 0, 2, 5, 8, 222, 1, -1, 0, 3] => przewidziany wynik (output): 0 (rzeczywista wartość: 0)\n",
            "cechy wejściowe obserwacji (input): [29, 0, 2, 1, 0, 390, 1, 0, 2, 5, 8, 137, 1, -1, 0, 3] => przewidziany wynik (output): 0 (rzeczywista wartość: 0)\n",
            "cechy wejściowe obserwacji (input): [53, 9, 1, 1, 0, 6, 1, 0, 2, 5, 8, 517, 1, -1, 0, 3] => przewidziany wynik (output): 0 (rzeczywista wartość: 0)\n",
            "cechy wejściowe obserwacji (input): [58, 9, 1, 3, 0, 71, 1, 0, 2, 5, 8, 71, 1, -1, 0, 3] => przewidziany wynik (output): 0 (rzeczywista wartość: 0)\n",
            "cechy wejściowe obserwacji (input): [57, 7, 1, 1, 0, 162, 1, 0, 2, 5, 8, 174, 1, -1, 0, 3] => przewidziany wynik (output): 0 (rzeczywista wartość: 0)\n",
            "cechy wejściowe obserwacji (input): [51, 5, 1, 0, 0, 229, 1, 0, 2, 5, 8, 353, 1, -1, 0, 3] => przewidziany wynik (output): 0 (rzeczywista wartość: 0)\n",
            "cechy wejściowe obserwacji (input): [45, 0, 2, 3, 0, 13, 1, 0, 2, 5, 8, 98, 1, -1, 0, 3] => przewidziany wynik (output): 0 (rzeczywista wartość: 0)\n",
            "cechy wejściowe obserwacji (input): [57, 1, 1, 0, 0, 52, 1, 0, 2, 5, 8, 38, 1, -1, 0, 3] => przewidziany wynik (output): 0 (rzeczywista wartość: 0)\n",
            "cechy wejściowe obserwacji (input): [60, 5, 1, 0, 0, 60, 1, 0, 2, 5, 8, 219, 1, -1, 0, 3] => przewidziany wynik (output): 0 (rzeczywista wartość: 0)\n",
            "cechy wejściowe obserwacji (input): [33, 7, 1, 1, 0, 0, 1, 0, 2, 5, 8, 54, 1, -1, 0, 3] => przewidziany wynik (output): 0 (rzeczywista wartość: 0)\n",
            "cechy wejściowe obserwacji (input): [28, 1, 1, 1, 0, 723, 1, 1, 2, 5, 8, 262, 1, -1, 0, 3] => przewidziany wynik (output): 0 (rzeczywista wartość: 0)\n",
            "cechy wejściowe obserwacji (input): [56, 4, 1, 2, 0, 779, 1, 0, 2, 5, 8, 164, 1, -1, 0, 3] => przewidziany wynik (output): 0 (rzeczywista wartość: 0)\n",
            "cechy wejściowe obserwacji (input): [32, 1, 2, 0, 0, 23, 1, 1, 2, 5, 8, 160, 1, -1, 0, 3] => przewidziany wynik (output): 0 (rzeczywista wartość: 0)\n",
            "cechy wejściowe obserwacji (input): [25, 7, 1, 1, 0, 50, 1, 0, 2, 5, 8, 342, 1, -1, 0, 3] => przewidziany wynik (output): 0 (rzeczywista wartość: 0)\n",
            "cechy wejściowe obserwacji (input): [40, 5, 1, 0, 0, 0, 1, 1, 2, 5, 8, 181, 1, -1, 0, 3] => przewidziany wynik (output): 0 (rzeczywista wartość: 0)\n",
            "cechy wejściowe obserwacji (input): [44, 0, 1, 1, 0, -372, 1, 0, 2, 5, 8, 172, 1, -1, 0, 3] => przewidziany wynik (output): 0 (rzeczywista wartość: 0)\n"
          ]
        },
        {
          "output_type": "stream",
          "name": "stderr",
          "text": [
            "/tmp/ipython-input-4196544304.py:2: DeprecationWarning: Conversion of an array with ndim > 0 to a scalar is deprecated, and will error in future. Ensure you extract a single element from your array before performing this operation. (Deprecated NumPy 1.25.)\n",
            "  print('cechy wejściowe obserwacji (input): %s => przewidziany wynik (output): %d (rzeczywista wartość: %d)' % (X.iloc[i].tolist(), predictions[i], Y.iloc[i]))\n"
          ]
        }
      ]
    },
    {
      "cell_type": "code",
      "source": [
        "#Wskaźnik skuteczności\n",
        "history.history['accuracy']"
      ],
      "metadata": {
        "colab": {
          "base_uri": "https://localhost:8080/"
        },
        "id": "Wqt5hJ3CaA0E",
        "outputId": "a7d2780b-baf2-47ce-a500-881488e2af1b"
      },
      "execution_count": null,
      "outputs": [
        {
          "output_type": "execute_result",
          "data": {
            "text/plain": [
              "[0.848772406578064,\n",
              " 0.8649635314941406,\n",
              " 0.8701393604278564,\n",
              " 0.8761336207389832,\n",
              " 0.8829020261764526,\n",
              " 0.8856005072593689,\n",
              " 0.8868392109870911,\n",
              " 0.886153519153595,\n",
              " 0.887723982334137,\n",
              " 0.8879672884941101,\n",
              " 0.8879672884941101,\n",
              " 0.8892943859100342,\n",
              " 0.8896262049674988,\n",
              " 0.8898031115531921,\n",
              " 0.8903118968009949,\n",
              " 0.8908427357673645,\n",
              " 0.8917938470840454,\n",
              " 0.8921256065368652,\n",
              " 0.8921477794647217,\n",
              " 0.8923910856246948,\n",
              " 0.8929219245910645,\n",
              " 0.8929219245910645,\n",
              " 0.8938509225845337,\n",
              " 0.8928776979446411,\n",
              " 0.8929440379142761,\n",
              " 0.8936518430709839,\n",
              " 0.8941384553909302,\n",
              " 0.8942047953605652,\n",
              " 0.8941605687141418,\n",
              " 0.8940721154212952,\n",
              " 0.8953549861907959,\n",
              " 0.8939393758773804,\n",
              " 0.8951337933540344,\n",
              " 0.8948683738708496,\n",
              " 0.8955540657043457,\n",
              " 0.8946914672851562,\n",
              " 0.895531952381134,\n",
              " 0.8960849642753601,\n",
              " 0.8959301114082336,\n",
              " 0.8944923877716064,\n",
              " 0.8965936899185181,\n",
              " 0.8956204652786255,\n",
              " 0.895531952381134,\n",
              " 0.895598292350769,\n",
              " 0.8966379165649414,\n",
              " 0.8961291909217834,\n",
              " 0.8953328728675842,\n",
              " 0.8955761790275574,\n",
              " 0.8965051770210266,\n",
              " 0.8965272903442383,\n",
              " 0.8957531452178955,\n",
              " 0.8972572684288025,\n",
              " 0.8964388370513916,\n",
              " 0.8964167237281799,\n",
              " 0.8964830636978149,\n",
              " 0.8966600298881531,\n",
              " 0.8970139622688293,\n",
              " 0.8963503837585449,\n",
              " 0.8964388370513916,\n",
              " 0.8966379165649414,\n",
              " 0.8960849642753601,\n",
              " 0.8965051770210266,\n",
              " 0.8966600298881531,\n",
              " 0.8986285924911499,\n",
              " 0.897478461265564,\n",
              " 0.8963060975074768,\n",
              " 0.8969917893409729,\n",
              " 0.8972793817520142,\n",
              " 0.8964167237281799,\n",
              " 0.8962397575378418,\n",
              " 0.8964388370513916,\n",
              " 0.8968369960784912,\n",
              " 0.897478461265564,\n",
              " 0.8966379165649414,\n",
              " 0.8969033360481262,\n",
              " 0.897544801235199,\n",
              " 0.8972793817520142,\n",
              " 0.8969475626945496,\n",
              " 0.8968369960784912,\n",
              " 0.8962618708610535,\n",
              " 0.8985401391983032,\n",
              " 0.8968812227249146,\n",
              " 0.8975005745887756,\n",
              " 0.8969696760177612,\n",
              " 0.8969254493713379]"
            ]
          },
          "metadata": {},
          "execution_count": 81
        }
      ]
    }
  ]
}